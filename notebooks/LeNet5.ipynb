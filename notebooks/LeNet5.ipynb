{
 "cells": [
  {
   "cell_type": "markdown",
   "metadata": {
    "colab_type": "text",
    "id": "J2IufuH49fgO"
   },
   "source": [
    "# Clasificación de imágenes\n",
    "\n",
    "En este cuaderno exploraremos una tarea de clasificación de imágenes. En particular trataremos de entrenar una red neuronal convolucional, la vieja y famosa [LeNet5](http://yann.lecun.com/exdb/publis/pdf/lecun-01a.pdf) en el dataset [MNIST](http://yann.lecun.com/exdb/mnist/), el cual consiste en imágenes de los dígitos del 0 al 9 escritos por personas.\n",
    "\n",
    "Para la implementación usaremos [Keras](https://keras.io/) que puede ser visto como un API de alto nivel sobre TensorFlow. En particular usaremos la [API de modelo sequencial](https://keras.io/models/sequential/) y las capas convolucionales y de pooling predefinidas por ellos en el módulo [layers](https://keras.io/layers/about-keras-layers/)."
   ]
  },
  {
   "cell_type": "code",
   "execution_count": 1,
   "metadata": {
    "colab": {},
    "colab_type": "code",
    "id": "j8pLMB4o9DLH"
   },
   "outputs": [],
   "source": [
    "import numpy as np\n",
    "import tensorflow as tf\n",
    "\n",
    "from sklearn.metrics import classification_report\n",
    "\n",
    "import matplotlib.pyplot as plt"
   ]
  },
  {
   "cell_type": "code",
   "execution_count": 2,
   "metadata": {
    "colab": {},
    "colab_type": "code",
    "id": "btzfl3TE_Isk"
   },
   "outputs": [],
   "source": [
    "(X_train, y_train), (X_test, y_test) = tf.keras.datasets.mnist.load_data(path='mnist.npz')"
   ]
  },
  {
   "cell_type": "markdown",
   "metadata": {
    "colab_type": "text",
    "id": "3S7FEp53A6RC"
   },
   "source": [
    "primero observemos los datos que tenemos"
   ]
  },
  {
   "cell_type": "code",
   "execution_count": 3,
   "metadata": {
    "colab": {
     "base_uri": "https://localhost:8080/",
     "height": 90
    },
    "colab_type": "code",
    "executionInfo": {
     "elapsed": 506,
     "status": "ok",
     "timestamp": 1538937655994,
     "user": {
      "displayName": "Sebastian Rodriguez Colina",
      "photoUrl": "",
      "userId": "15883086893181703875"
     },
     "user_tz": 300
    },
    "id": "KsvFTSmX_IpO",
    "outputId": "6a8ce4b7-fb5a-4e5f-e50b-1e45fae346fb"
   },
   "outputs": [
    {
     "name": "stdout",
     "output_type": "stream",
     "text": [
      "Shape of X_train is (60000, 28, 28)\n",
      "Shape of y_train is (60000,)\n",
      "Shape of X_test is (10000, 28, 28)\n",
      "Shape of y_test is (10000,)\n"
     ]
    }
   ],
   "source": [
    "msg = \"Shape of {} is {}\"\n",
    "print(msg.format('X_train', X_train.shape))\n",
    "print(msg.format('y_train', y_train.shape))\n",
    "print(msg.format('X_test', X_test.shape))\n",
    "print(msg.format('y_test', y_test.shape))"
   ]
  },
  {
   "cell_type": "code",
   "execution_count": 4,
   "metadata": {
    "colab": {},
    "colab_type": "code",
    "id": "SalWRIw4gQdp"
   },
   "outputs": [],
   "source": [
    "IMG_HEIGHT, IMG_WIDTH = X_train[0].shape"
   ]
  },
  {
   "cell_type": "code",
   "execution_count": 5,
   "metadata": {
    "colab": {},
    "colab_type": "code",
    "id": "AOU7lyWi0J2_"
   },
   "outputs": [],
   "source": [
    "NUM_CLASSES = len(np.unique(y_train))"
   ]
  },
  {
   "cell_type": "markdown",
   "metadata": {
    "colab_type": "text",
    "id": "sAEgGuMRBTuM"
   },
   "source": [
    "tenemos 60mil imágenes de entrenamiento y 10mil de prueba, cada imagen tiene 28 pixeles de ancho y alto. Miremos unas cuantas"
   ]
  },
  {
   "cell_type": "code",
   "execution_count": 6,
   "metadata": {
    "colab": {},
    "colab_type": "code",
    "id": "OyyEYQaE_InF"
   },
   "outputs": [],
   "source": [
    "def sample_data(data, sample_size=5):\n",
    "    indices = np.random.randint(0, data.shape[0], size=sample_size)\n",
    "    return data[indices, ...]"
   ]
  },
  {
   "cell_type": "code",
   "execution_count": 7,
   "metadata": {
    "colab": {},
    "colab_type": "code",
    "id": "DVHoQZy0EIzd"
   },
   "outputs": [],
   "source": [
    "def show_images(images):\n",
    "    cols = 5\n",
    "    rows = int(images.shape[0]/cols)\n",
    "    \n",
    "    fig = plt.figure(figsize=(rows*5, cols*5))\n",
    "    \n",
    "    for i in range(images.shape[0]):\n",
    "        ax=fig.add_subplot(rows, cols, i+1)\n",
    "        ax.imshow(images[i])\n",
    "        ax.set_xticklabels([])\n",
    "        ax.set_yticklabels([])"
   ]
  },
  {
   "cell_type": "code",
   "execution_count": 8,
   "metadata": {
    "colab": {
     "base_uri": "https://localhost:8080/",
     "height": 79
    },
    "colab_type": "code",
    "executionInfo": {
     "elapsed": 1043,
     "status": "ok",
     "timestamp": 1538937659607,
     "user": {
      "displayName": "Sebastian Rodriguez Colina",
      "photoUrl": "",
      "userId": "15883086893181703875"
     },
     "user_tz": 300
    },
    "id": "l4J69jba_IkU",
    "outputId": "521c4939-1df5-439f-9a46-d34f4e18f4a2"
   },
   "outputs": [
    {
     "data": {
      "image/png": "[encoded data removed]",
      "text/plain": [
       "<Figure size 360x1800 with 5 Axes>"
      ]
     },
     "metadata": {
      "needs_background": "light"
     },
     "output_type": "display_data"
    }
   ],
   "source": [
    "sample_images = sample_data(X_train)\n",
    "show_images(sample_images)"
   ]
  },
  {
   "cell_type": "markdown",
   "metadata": {
    "colab_type": "text",
    "id": "8cQDaspPvgsQ"
   },
   "source": [
    "La implementación de Keras nos exige que nuestro conjunto de imágenes sea de la forma [-1, height, width, n_ch], por lo que debemos cambiar el formato que tenemos; además, como el máximo valor en las imágenes es 255, podemos escalar muy fácilmente."
   ]
  },
  {
   "cell_type": "code",
   "execution_count": 9,
   "metadata": {
    "colab": {},
    "colab_type": "code",
    "id": "hJrm3BYsvyqH"
   },
   "outputs": [],
   "source": [
    "X_train = np.reshape(X_train.astype(np.float32), (-1, IMG_HEIGHT, IMG_WIDTH, 1))/255\n",
    "X_test = np.reshape(X_test.astype(np.float32), (-1, IMG_HEIGHT, IMG_WIDTH, 1))/255"
   ]
  },
  {
   "cell_type": "markdown",
   "metadata": {
    "colab_type": "text",
    "id": "iRkUkoNL-CKa"
   },
   "source": [
    "keras también nos exige que nuestros labels estén en formato one-hot encodding"
   ]
  },
  {
   "cell_type": "code",
   "execution_count": 10,
   "metadata": {
    "colab": {},
    "colab_type": "code",
    "id": "qsRZbhwt0Haw"
   },
   "outputs": [],
   "source": [
    "y_train = tf.keras.utils.to_categorical(y_train, NUM_CLASSES)\n",
    "y_test = tf.keras.utils.to_categorical(y_test, NUM_CLASSES)"
   ]
  },
  {
   "cell_type": "markdown",
   "metadata": {
    "colab_type": "text",
    "id": "vU09UYRJ-KYv"
   },
   "source": [
    "A continuación definimos nuestro modelo, como una serie de pasos que llevan de la imagen de entrada a las predicciones"
   ]
  },
  {
   "cell_type": "code",
   "execution_count": 11,
   "metadata": {
    "colab": {},
    "colab_type": "code",
    "id": "1tzU07fJhOlk"
   },
   "outputs": [],
   "source": [
    "model = tf.keras.Sequential()\n",
    "model.add(\n",
    "    tf.keras.layers.Conv2D(\n",
    "        filters=6, kernel_size=(5,5), activation='tanh',\n",
    "        padding='same', input_shape=(IMG_HEIGHT, IMG_WIDTH, 1)\n",
    "    )\n",
    ")\n",
    "model.add(tf.keras.layers.AveragePooling2D(pool_size=(2,2)))\n",
    "model.add(tf.keras.layers.Conv2D(16, (5,5), activation='tanh'))\n",
    "model.add(tf.keras.layers.AveragePooling2D((2,2)))\n",
    "model.add(tf.keras.layers.Conv2D(120, (5,5), activation='tanh'))\n",
    "model.add(tf.keras.layers.Flatten())\n",
    "model.add(tf.keras.layers.Dense(84, activation='tanh'))\n",
    "model.add(tf.keras.layers.Dense(NUM_CLASSES, activation='softmax'))\n",
    "\n",
    "model.compile(loss='categorical_crossentropy',\n",
    "              optimizer=tf.train.AdamOptimizer(0.01),\n",
    "              metrics=['accuracy'])"
   ]
  },
  {
   "cell_type": "markdown",
   "metadata": {
    "colab_type": "text",
    "id": "53BdV6JF-V1L"
   },
   "source": [
    "ahora si, podemos entrenar nuestro modelo"
   ]
  },
  {
   "cell_type": "code",
   "execution_count": 13,
   "metadata": {
    "colab": {
     "base_uri": "https://localhost:8080/",
     "height": 417
    },
    "colab_type": "code",
    "executionInfo": {
     "elapsed": 445609,
     "status": "ok",
     "timestamp": 1538938731171,
     "user": {
      "displayName": "Sebastian Rodriguez Colina",
      "photoUrl": "",
      "userId": "15883086893181703875"
     },
     "user_tz": 300
    },
    "id": "BisHUx_02vr9",
    "outputId": "7f29070d-90d9-47a8-ae5a-1e524468397f"
   },
   "outputs": [
    {
     "name": "stdout",
     "output_type": "stream",
     "text": [
      "Train on 60000 samples, validate on 10000 samples\n",
      "Epoch 1/10\n",
      "60000/60000 [==============================] - 41s 677us/step - loss: 0.1580 - acc: 0.9535 - val_loss: 0.1285 - val_acc: 0.9613\n",
      "Epoch 2/10\n",
      "60000/60000 [==============================] - 40s 662us/step - loss: 0.1010 - acc: 0.9702 - val_loss: 0.1089 - val_acc: 0.9669\n",
      "Epoch 3/10\n",
      "60000/60000 [==============================] - 39s 653us/step - loss: 0.0789 - acc: 0.9766 - val_loss: 0.0983 - val_acc: 0.9716\n",
      "Epoch 4/10\n",
      "60000/60000 [==============================] - 39s 652us/step - loss: 0.0633 - acc: 0.9817 - val_loss: 0.0927 - val_acc: 0.9722\n",
      "Epoch 5/10\n",
      "60000/60000 [==============================] - 43s 716us/step - loss: 0.0539 - acc: 0.9843 - val_loss: 0.0907 - val_acc: 0.9729\n",
      "Epoch 6/10\n",
      "60000/60000 [==============================] - 40s 668us/step - loss: 0.0470 - acc: 0.9863 - val_loss: 0.0864 - val_acc: 0.9741\n",
      "Epoch 7/10\n",
      "60000/60000 [==============================] - 44s 733us/step - loss: 0.0421 - acc: 0.9877 - val_loss: 0.0878 - val_acc: 0.9744\n",
      "Epoch 8/10\n",
      "60000/60000 [==============================] - 43s 724us/step - loss: 0.0391 - acc: 0.9883 - val_loss: 0.0830 - val_acc: 0.9760\n",
      "Epoch 9/10\n",
      "60000/60000 [==============================] - 42s 703us/step - loss: 0.0379 - acc: 0.9876 - val_loss: 0.0963 - val_acc: 0.9744\n",
      "Epoch 10/10\n",
      "60000/60000 [==============================] - 40s 673us/step - loss: 0.0413 - acc: 0.9872 - val_loss: 0.0849 - val_acc: 0.9766\n"
     ]
    },
    {
     "data": {
      "text/plain": [
       "<tensorflow.python.keras.callbacks.History at 0x1a954f60>"
      ]
     },
     "execution_count": 13,
     "metadata": {},
     "output_type": "execute_result"
    }
   ],
   "source": [
    "model.fit(\n",
    "    X_train, y_train, epochs=10, batch_size=320,\n",
    "    verbose=1, validation_data=(X_test, y_test)\n",
    ")"
   ]
  },
  {
   "cell_type": "code",
   "execution_count": 14,
   "metadata": {
    "colab": {},
    "colab_type": "code",
    "id": "QVjhYiu57goz"
   },
   "outputs": [],
   "source": [
    "y_train_probs = model.predict(X_train)\n",
    "y_test_probs = model.predict(X_test)"
   ]
  },
  {
   "cell_type": "code",
   "execution_count": 15,
   "metadata": {
    "colab": {},
    "colab_type": "code",
    "id": "9UFIzCYJ87td"
   },
   "outputs": [],
   "source": [
    "y_train_preds = np.argmax(y_train_probs, axis=1)\n",
    "y_test_preds = np.argmax(y_test_probs, axis=1)"
   ]
  },
  {
   "cell_type": "code",
   "execution_count": 16,
   "metadata": {
    "colab": {},
    "colab_type": "code",
    "id": "gzdhixvR7lhO"
   },
   "outputs": [],
   "source": [
    "y_train = np.argmax(y_train, axis=1)\n",
    "y_test = np.argmax(y_test, axis=1)"
   ]
  },
  {
   "cell_type": "code",
   "execution_count": 17,
   "metadata": {
    "colab": {
     "base_uri": "https://localhost:8080/",
     "height": 599
    },
    "colab_type": "code",
    "executionInfo": {
     "elapsed": 490,
     "status": "ok",
     "timestamp": 1538939744639,
     "user": {
      "displayName": "Sebastian Rodriguez Colina",
      "photoUrl": "",
      "userId": "15883086893181703875"
     },
     "user_tz": 300
    },
    "id": "0FNVXczRIJPD",
    "outputId": "e600fcaa-7da4-4bbd-97d0-d03e1b0b5c31"
   },
   "outputs": [
    {
     "name": "stdout",
     "output_type": "stream",
     "text": [
      "-------Report on train data-----------\n",
      "              precision    recall  f1-score   support\n",
      "\n",
      "           0       0.99      1.00      0.99      5923\n",
      "           1       0.99      1.00      1.00      6742\n",
      "           2       0.99      0.99      0.99      5958\n",
      "           3       0.99      0.99      0.99      6131\n",
      "           4       0.99      0.99      0.99      5842\n",
      "           5       0.99      0.99      0.99      5421\n",
      "           6       1.00      0.99      0.99      5918\n",
      "           7       0.99      0.99      0.99      6265\n",
      "           8       0.99      0.99      0.99      5851\n",
      "           9       0.98      0.99      0.98      5949\n",
      "\n",
      "   micro avg       0.99      0.99      0.99     60000\n",
      "   macro avg       0.99      0.99      0.99     60000\n",
      "weighted avg       0.99      0.99      0.99     60000\n",
      "\n",
      "-------Report on test data-----------\n",
      "              precision    recall  f1-score   support\n",
      "\n",
      "           0       0.99      0.99      0.99       980\n",
      "           1       0.99      0.99      0.99      1135\n",
      "           2       0.98      0.98      0.98      1032\n",
      "           3       0.96      0.98      0.97      1010\n",
      "           4       0.98      0.97      0.97       982\n",
      "           5       0.98      0.97      0.97       892\n",
      "           6       0.98      0.97      0.98       958\n",
      "           7       0.97      0.98      0.97      1028\n",
      "           8       0.97      0.98      0.97       974\n",
      "           9       0.97      0.96      0.97      1009\n",
      "\n",
      "   micro avg       0.98      0.98      0.98     10000\n",
      "   macro avg       0.98      0.98      0.98     10000\n",
      "weighted avg       0.98      0.98      0.98     10000\n",
      "\n"
     ]
    }
   ],
   "source": [
    "print(\"-------Report on train data-----------\")\n",
    "print(classification_report(y_train, y_train_preds))\n",
    "print(\"-------Report on test data-----------\")\n",
    "print(classification_report(y_test, y_test_preds))"
   ]
  },
  {
   "cell_type": "markdown",
   "metadata": {
    "colab_type": "text",
    "id": "2BMrZNXqLDI_"
   },
   "source": [
    "Espero que veas como una red convolucional puede ser superior a las aproximaciones tradiconales para clasificar imágenes. \n",
    "\n",
    "**Ejercicio:** intenta cambiar hiperparámetros, qué es lo mejor que puedes lograr?"
   ]
  },
  {
   "cell_type": "code",
   "execution_count": 0,
   "metadata": {
    "colab": {},
    "colab_type": "code",
    "id": "yIP353SoK6WR"
   },
   "outputs": [],
   "source": []
  }
 ],
 "metadata": {
  "colab": {
   "collapsed_sections": [],
   "name": "LeNet5.ipynb",
   "provenance": [],
   "version": "0.3.2"
  },
  "kernelspec": {
   "display_name": "Python 3",
   "language": "python",
   "name": "python3"
  },
  "language_info": {
   "codemirror_mode": {
    "name": "ipython",
    "version": 3
   },
   "file_extension": ".py",
   "mimetype": "text/x-python",
   "name": "python",
   "nbconvert_exporter": "python",
   "pygments_lexer": "ipython3",
   "version": "3.6.6"
  }
 },
 "nbformat": 4,
 "nbformat_minor": 1
}
